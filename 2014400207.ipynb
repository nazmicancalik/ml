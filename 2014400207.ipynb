{
 "cells": [
  {
   "cell_type": "markdown",
   "metadata": {},
   "source": [
    "## CMPE 462 HOMEWORK 1\n",
    "Due Date: 21.03.2019"
   ]
  },
  {
   "cell_type": "code",
   "execution_count": 10,
   "metadata": {
    "collapsed": true
   },
   "outputs": [],
   "source": [
    "# Allowed libraries\n",
    "import numpy as np\n",
    "import matplotlib.pyplot as plt\n",
    "from sklearn import datasets\n",
    "# For loading data, you can import other libraries, but further usage is not allowed."
   ]
  },
  {
   "cell_type": "markdown",
   "metadata": {},
   "source": [
    "### 1.) Review bias/variance dilemma.\n",
    "Replicate the bias-variance-plot (bias,\n",
    "variance and error vs. model complexity) given in Figure 4.6 in the textbook\n",
    "or in lecture notes [W04.pdf, pg.52]. For this:\n",
    "\n",
    "* Generate 20 values {$x^t$} from the range [0, 5] from uniform distribution.  \n",
    "* Generate 100 different samples $X_s$. Each sample contains 20 instances {$x^t, y^t_s$} where $y^t_s = f(x^t) + \\epsilon$, $f(x) =2× sin(1.5 × x)$, and $ \\epsilon ∼ N (0, 1)$.\n",
    "* For each sample, fit polynomial models of order 1,3, and 5.\n",
    "* Plot bias, variance and error of these models."
   ]
  },
  {
   "cell_type": "code",
   "execution_count": 11,
   "metadata": {},
   "outputs": [
    {
     "name": "stdout",
     "output_type": "stream",
     "text": [
      "Biases of fits order[1,3,5]    :\t [1.5229959460245781, 1.0088440026911891, 0.98155948716399632]\n",
      "Variances of fits order[1,3,5] :\t [0.092209292567758921, 0.18467276416182427, 0.29357804013021643]\n",
      "Errors of of fits order[1,3,5] :\t [2.4117259441750587, 1.2024389859278042, 1.2570370669718638]\n"
     ]
    },
    {
     "data": {
      "image/png": "[encoded data removed]",
      "text/plain": [
       "<matplotlib.figure.Figure at 0x7f0f6179c9e8>"
      ]
     },
     "metadata": {},
     "output_type": "display_data"
    }
   ],
   "source": [
    "# Solution Here\n",
    "# Generate 100 different samples.\n",
    "SIZE = 20\n",
    "SAMPLE_COUNT = 100\n",
    "\n",
    "def polyfit(x,r,order):\n",
    "    D = []\n",
    "    for cur_x in x:\n",
    "        inter_l = []\n",
    "        for i in range(0,order+1):\n",
    "            inter_l.append(cur_x**i)\n",
    "        D.append(inter_l)\n",
    "    \n",
    "    r = np.array(r).T\n",
    "    D = np.array(D)\n",
    "    first_part = np.linalg.inv(np.matmul(D.T,D))\n",
    "    second_part = np.matmul(first_part,D.T)\n",
    "    w = np.matmul(second_part,r)\n",
    "    return w\n",
    "\n",
    "def calc_y(x):\n",
    "    return 2 * np.sin(1.5 * x)\n",
    "\n",
    "# g_mean is the order 1 means of lists of lists order_1_fits.\n",
    "def calc_bias(g_mean,r):\n",
    "    # Convert the lists to np arrays for convenience  \n",
    "    r = np.array(r)\n",
    "    g_mean = np.array(g_mean)\n",
    "    \n",
    "    bias_square = np.mean((g_mean - r)**2)\n",
    "    return np.sqrt(bias_square)\n",
    "\n",
    "# g is the order 1/3/5 (only one of them) fit lists of list.\n",
    "def calc_variance(g,g_mean):\n",
    "    g_mean = np.array(g_mean)\n",
    "    g_mean = np.tile(g_mean,(SAMPLE_COUNT,1))\n",
    "    \n",
    "    difference = g-g_mean\n",
    "    return np.mean(difference**2)\n",
    "\n",
    "def calc_g_mean(g):\n",
    "    g = np.array(g)\n",
    "    return np.mean(g, axis=0) \n",
    "    \n",
    "def calc_error(var,bias):\n",
    "    return bias**2 + var\n",
    "    \n",
    "def fit(x,r,order):\n",
    "    # I have implemented the polyfit myself, however I will use polyval for getting the polynom\n",
    "    coeffs = polyfit(x,r,order)\n",
    "    return np.polyval(np.flip(coeffs,axis=0),x)\n",
    "\n",
    "# Generate 20 values\n",
    "x_values = np.random.uniform(low=0,high=5,size=SIZE)\n",
    "r_values_list = []\n",
    "\n",
    "order_1_fits = []\n",
    "order_3_fits = []\n",
    "order_5_fits = []\n",
    "\n",
    "\n",
    "# Generate the samples\n",
    "# For each sample fit a polynomial model of order 1,3,5\n",
    "\n",
    "for i in range(SAMPLE_COUNT):\n",
    "    sample = calc_y(x_values) + np.random.normal(loc=0,scale=1,size=SIZE)\n",
    "    r_values_list.append(sample)\n",
    "    \n",
    "    fit_1 = fit(x_values,r_values_list[i],1)\n",
    "    order_1_fits.append(fit_1)\n",
    "    \n",
    "    fit_3 = fit(x_values,r_values_list[i],3)\n",
    "    order_3_fits.append(fit_3)\n",
    "    \n",
    "    fit_5 = fit(x_values,r_values_list[i],5)\n",
    "    order_5_fits.append(fit_5)\n",
    "    \n",
    "r_values_list = np.array(r_values_list)\n",
    "\n",
    "order_1_fits = np.array(order_1_fits)\n",
    "order_3_fits = np.array(order_3_fits)\n",
    "order_5_fits = np.array(order_5_fits)\n",
    "\n",
    "orders = [1,3,5]\n",
    "\n",
    "order_1_g_mean = calc_g_mean(order_1_fits)\n",
    "order_3_g_mean = calc_g_mean(order_3_fits)\n",
    "order_5_g_mean = calc_g_mean(order_5_fits)\n",
    "\n",
    "order_fit_means = [order_1_g_mean,order_3_g_mean,order_5_g_mean]\n",
    "\n",
    "# Calculate the biases for all orders\n",
    "bias_order_1 = calc_bias(order_1_g_mean,r_values_list)\n",
    "bias_order_3 = calc_bias(order_3_g_mean,r_values_list)\n",
    "bias_order_5 = calc_bias(order_5_g_mean,r_values_list)\n",
    "biases = [bias_order_1,bias_order_3,bias_order_5]\n",
    "\n",
    "\n",
    "print(\"Biases of fits order[1,3,5]    :\\t\", biases)\n",
    "\n",
    "# Calculate the variances for all orders\n",
    "variance_order_1 = calc_variance(order_1_fits,order_1_g_mean)\n",
    "variance_order_3 = calc_variance(order_3_fits,order_3_g_mean)\n",
    "variance_order_5 = calc_variance(order_5_fits,order_5_g_mean)\n",
    "variances = [variance_order_1,variance_order_3,variance_order_5]\n",
    "\n",
    "print(\"Variances of fits order[1,3,5] :\\t\", variances)\n",
    "\n",
    "# Calculate the errors for all orders\n",
    "error_order_1 = calc_error(variance_order_1,bias_order_1)\n",
    "error_order_3 = calc_error(variance_order_3,bias_order_3)\n",
    "error_order_5 = calc_error(variance_order_5,bias_order_5)\n",
    "errors = [error_order_1,error_order_3,error_order_5]\n",
    "\n",
    "print(\"Errors of of fits order[1,3,5] :\\t\", errors)\n",
    "\n",
    "# Plot the error/bias/variances of fits\n",
    "plt.ylabel('Error')\n",
    "plt.xlabel('Order')\n",
    "plt.plot(orders,biases,'b--',label='Bias')\n",
    "plt.plot(orders,variances,'g-.',label='Variance')\n",
    "plt.plot(orders,errors,'r-',label='Error')\n",
    "plt.legend()\n",
    "plt.show()"
   ]
  },
  {
   "cell_type": "code",
   "execution_count": 12,
   "metadata": {},
   "outputs": [
    {
     "data": {
      "text/plain": [
       "array([ 2.,  5.,  3.])"
      ]
     },
     "execution_count": 12,
     "metadata": {},
     "output_type": "execute_result"
    }
   ],
   "source": [
    "# GOOD \n",
    "# This is the exact information I needed\n",
    "\n",
    "matrix = [[1,4,3],[2,6,3],[3,5,3]]\n",
    "matrix = np.array(matrix)\n",
    "matrix_mean = np.mean(matrix, axis=0) \n",
    "matrix_mean"
   ]
  },
  {
   "cell_type": "code",
   "execution_count": 13,
   "metadata": {},
   "outputs": [
    {
     "data": {
      "text/plain": [
       "array([[1, 2, 3],\n",
       "       [1, 2, 3],\n",
       "       [1, 2, 3]])"
      ]
     },
     "execution_count": 13,
     "metadata": {},
     "output_type": "execute_result"
    }
   ],
   "source": [
    "# EXACT THING I NEED WHEN PUTTING SAME MEAN TO EVERY ROW WHEN CALCULATING VAR\n",
    "row = [1,2,3]\n",
    "row = np.array(row)\n",
    "\n",
    "x = np.tile(row,(3,1))\n",
    "x"
   ]
  },
  {
   "cell_type": "markdown",
   "metadata": {},
   "source": [
    "### 2.) Review cross-validation.\n",
    "Replicate the cross-validation error plot (training and validation error vs. model complexity plot) given in Figure 4.7 in the textbook or in lecture notes [W04.pdf, pg52]. For this:\n",
    "* Generate 10 samples containing 100 instances as in part 1.\n",
    "* Split each sample to training and validation sets, fit polynomial models of order 1,3, and 5.\n",
    "* Plot mean training and validation error (mean square error) of each model."
   ]
  },
  {
   "cell_type": "code",
   "execution_count": 22,
   "metadata": {},
   "outputs": [
    {
     "name": "stdout",
     "output_type": "stream",
     "text": [
      "(10, 20)\n",
      "100 [ 1.20005198  2.46938683  3.20255701  1.04139949  4.20675676  2.30063864\n",
      "  1.57617138  1.72795934  1.47699338  2.6349422   4.50747227  2.25167667\n",
      "  2.27349533  4.79738946  4.13868341  0.92570546  4.34589303  1.08163281\n",
      "  0.43479233  4.26613266  2.74145486  4.90897663  2.63427042  2.96632992\n",
      "  4.90428699  3.35530539  4.79487681  2.68678991  3.76015294  0.70384904\n",
      "  0.079599    2.4626014   1.66268075  2.64869535  3.84061116  1.14176521\n",
      "  0.49926954  4.34325089  1.41125924  3.93340971  2.17480888  4.53235666\n",
      "  3.76593164  0.48984962  2.82101613  4.9738682   4.68057637  3.72283023\n",
      "  4.90643375  0.50108888  1.68083941  3.48167508  3.0705197   0.75398788\n",
      "  2.85003444  1.40528888  2.851838    3.72650674  0.27347527  2.61019508\n",
      "  2.81346955  2.11592337  3.13626522  3.55022854  1.58765998  4.41988546\n",
      "  3.19670808  2.78624158  4.55871185  4.55044923  1.98438902  4.60630622\n",
      "  4.80145267  1.45290511  2.3289292   3.25358527  2.70690986  1.69902333\n",
      "  1.80935538  4.95667631  2.01981446  0.30255439  1.77170538  3.84281021\n",
      "  3.39158296  3.54515618  0.34303454  0.84286089  1.26693017  4.91489118\n",
      "  3.80797388  1.26981387  2.87534949  3.927078    4.30704523  3.88296653\n",
      "  0.33058203  3.57908387  0.11428819  3.77915727]\n"
     ]
    },
    {
     "ename": "NameError",
     "evalue": "name 'training_x' is not defined",
     "output_type": "error",
     "traceback": [
      "\u001b[0;31m---------------------------------------------------------------------------\u001b[0m",
      "\u001b[0;31mNameError\u001b[0m                                 Traceback (most recent call last)",
      "\u001b[0;32m<ipython-input-22-5a66c46d8764>\u001b[0m in \u001b[0;36m<module>\u001b[0;34m()\u001b[0m\n\u001b[1;32m     39\u001b[0m \u001b[0;31m# For checking if the split was good\u001b[0m\u001b[0;34m\u001b[0m\u001b[0;34m\u001b[0m\u001b[0m\n\u001b[1;32m     40\u001b[0m \u001b[0mprint\u001b[0m\u001b[0;34m(\u001b[0m\u001b[0mlen\u001b[0m\u001b[0;34m(\u001b[0m\u001b[0mx_values\u001b[0m\u001b[0;34m)\u001b[0m\u001b[0;34m,\u001b[0m\u001b[0mx_values\u001b[0m\u001b[0;34m)\u001b[0m\u001b[0;34m\u001b[0m\u001b[0m\n\u001b[0;32m---> 41\u001b[0;31m \u001b[0mprint\u001b[0m\u001b[0;34m(\u001b[0m\u001b[0mlen\u001b[0m\u001b[0;34m(\u001b[0m\u001b[0mtraining_x\u001b[0m\u001b[0;34m)\u001b[0m\u001b[0;34m,\u001b[0m\u001b[0mtraining_x\u001b[0m\u001b[0;34m)\u001b[0m\u001b[0;34m\u001b[0m\u001b[0m\n\u001b[0m\u001b[1;32m     42\u001b[0m \u001b[0mprint\u001b[0m\u001b[0;34m(\u001b[0m\u001b[0mlen\u001b[0m\u001b[0;34m(\u001b[0m\u001b[0mtest_x\u001b[0m\u001b[0;34m)\u001b[0m\u001b[0;34m,\u001b[0m\u001b[0mtest_x\u001b[0m\u001b[0;34m)\u001b[0m\u001b[0;34m\u001b[0m\u001b[0m\n",
      "\u001b[0;31mNameError\u001b[0m: name 'training_x' is not defined"
     ]
    }
   ],
   "source": [
    "# Solution Here\n",
    "SIZE = 100\n",
    "SAMPLE_COUNT = 10\n",
    "TRAINING_SPLIT_RATIO = 0.8\n",
    "\n",
    "x_values = np.random.uniform(low=0,high=5,size=SIZE)\n",
    "r_values_list = []\n",
    "\n",
    "\n",
    "# Shape of x_values: (100,)\n",
    "# Shape of r_values_list (10,100)\n",
    "def split_data(x_values,r_values_list,training_split_ratio):\n",
    "    \n",
    "    # Determine how many data points are going to be in x.\n",
    "    x_values_length = len(x_values)\n",
    "    training_length = int(training_split_ratio*x_values_length)\n",
    "    \n",
    "    # Split x values\n",
    "    x_training = training_x = x_values[:training_length]\n",
    "    x_test = x_values[training_length:]\n",
    "    \n",
    "    # Splits the matrix horizontally\n",
    "    r_training,r_test = np.hsplit(np.array(r_values_list),[training_length])\n",
    "\n",
    "    return x_training,x_test,r_training,r_test\n",
    "    \n",
    "\n",
    "# Generate the samples\n",
    "# For each sample fit a polynomial model of order 1,3,5\n",
    "for i in range(SAMPLE_COUNT):\n",
    "    sample = calc_y(x_values) + np.random.normal(loc=0,scale=1,size=SIZE)\n",
    "    r_values_list.append(sample)\n",
    "\n",
    "# Split the data\n",
    "x_training,x_test,r_training,r_test = split_data(x_values,r_values_list,TRAINING_SPLIT_RATIO)\n"
   ]
  },
  {
   "cell_type": "code",
   "execution_count": null,
   "metadata": {},
   "outputs": [],
   "source": [
    "# GOOD FOR SPLITTING DATA I NEED THIS \n",
    "matrix = np.array([[1,2,3,4,5],[101,102,103,104,105],[201,202,203,204,205]])\n",
    "np.hsplit(matrix,[2])"
   ]
  },
  {
   "cell_type": "markdown",
   "metadata": {},
   "source": [
    "### 3.) Use of real dataset. \n",
    "Download Iris Data Set from UCI Machine Learning Repository. Randomly split it into training and test sets.\n",
    "* For each feature, plot histogram of classes. For better visualiziation, plot classes in same plot but with different colors. (For this you can use plt.subplots)\n",
    "* Consider only two classes: Iris Setosa and Iris Versicolour.\n",
    "* Assuming Gaussian distribution, apply parametric classification, and find which particular feature (sepal length, sepal width, petal length, petal width) is most successful in classifying instances.\n",
    "    - For this, treat each feature separately. find maximum likelihood estimate of the parameters $(μ, σ^2)$ of different classes using training set. (You can use plt.errorbar for visualization, use one column for each feature and visualize both classes in same plot using different colors).\n",
    "    - Using these parameters, predict the classes of the instances in the test set, and calculate the error."
   ]
  },
  {
   "cell_type": "code",
   "execution_count": 11,
   "metadata": {},
   "outputs": [
    {
     "name": "stdout",
     "output_type": "stream",
     "text": [
      "[0 0 0 0 0 0 0 0 0 0 0 0 0 0 0 0 0 0 0 0 0 0 0 0 0 0 0 0 0 0 0 0 0 0 0 0 0\n",
      " 0 0 0 0 0 0 0 0 0 0 0 0 0 1 1 1 1 1 1 1 1 1 1 1 1 1 1 1 1 1 1 1 1 1 1 1 1\n",
      " 1 1 1 1 1 1 1 1 1 1 1 1 1 1 1 1 1 1 1 1 1 1 1 1 1 1 2 2 2 2 2 2 2 2 2 2 2\n",
      " 2 2 2 2 2 2 2 2 2 2 2 2 2 2 2 2 2 2 2 2 2 2 2 2 2 2 2 2 2 2 2 2 2 2 2 2 2\n",
      " 2 2]\n"
     ]
    }
   ],
   "source": [
    "# Solution Here\n",
    "iris = datasets.load_iris()\n",
    "print(iris.target)"
   ]
  },
  {
   "cell_type": "code",
   "execution_count": null,
   "metadata": {
    "collapsed": true
   },
   "outputs": [],
   "source": []
  }
 ],
 "metadata": {
  "kernelspec": {
   "display_name": "Python 3",
   "language": "python",
   "name": "python3"
  },
  "language_info": {
   "codemirror_mode": {
    "name": "ipython",
    "version": 3
   },
   "file_extension": ".py",
   "mimetype": "text/x-python",
   "name": "python",
   "nbconvert_exporter": "python",
   "pygments_lexer": "ipython3",
   "version": "3.6.3"
  },
  "varInspector": {
   "cols": {
    "lenName": 16,
    "lenType": 16,
    "lenVar": 40
   },
   "kernels_config": {
    "python": {
     "delete_cmd_postfix": "",
     "delete_cmd_prefix": "del ",
     "library": "var_list.py",
     "varRefreshCmd": "print(var_dic_list())"
    },
    "r": {
     "delete_cmd_postfix": ") ",
     "delete_cmd_prefix": "rm(",
     "library": "var_list.r",
     "varRefreshCmd": "cat(var_dic_list()) "
    }
   },
   "types_to_exclude": [
    "module",
    "function",
    "builtin_function_or_method",
    "instance",
    "_Feature"
   ],
   "window_display": false
  }
 },
 "nbformat": 4,
 "nbformat_minor": 2
}
