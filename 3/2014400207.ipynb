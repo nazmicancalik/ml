{
  "nbformat": 4,
  "nbformat_minor": 0,
  "metadata": {
    "colab": {
      "name": "CMPE 462 HOMEWORK 3.ipynb",
      "version": "0.3.2",
      "provenance": []
    },
    "kernelspec": {
      "name": "python3",
      "display_name": "Python 3"
    }
  },
  "cells": [
    {
      "cell_type": "markdown",
      "metadata": {
        "id": "EkhtsBEOk2MK",
        "colab_type": "text"
      },
      "source": [
        "## CMPE 462 HOMEWORK 3"
      ]
    },
    {
      "cell_type": "code",
      "metadata": {
        "id": "mozg3fTnkw3W",
        "colab_type": "code",
        "colab": {}
      },
      "source": [
        "# Allowed Libraries\n",
        "import numpy as np\n",
        "import matplotlib.pyplot as plt"
      ],
      "execution_count": 0,
      "outputs": []
    },
    {
      "cell_type": "markdown",
      "metadata": {
        "id": "99BtoJ2zk0ki",
        "colab_type": "text"
      },
      "source": [
        "# Multilayered Perceptron\n",
        "**Target:** Implement multi-layer perceptron and analyze the results\n",
        "\n",
        "**Data:**  The dataset (points2d.dat) is attached to the email. The sample includes 400 instances. Each instance is represented by a feature vector of 2 dimensions. The third column corresponds to the class (0/1/2) of the instance.\n",
        "\n",
        "- Report how you split the sample for training and test. Report how you designed your neural network to solve this 3-class problem.(number of layers, error function etc.)\n",
        "- Derive weight update equations using hyperbolic tangent activation function for hidden layers and sigmoid activation function for output layer . Submit a hard-copy of this derivation, drawing the the corresponding neural network with hidden units. All the formulas and the corresponding symbols should be clear. \n",
        "- Implement multi-layer perceptron with 5 hidden units. While training at each iteration, plot the error on training and test sets.\n",
        "- After training converges: Plot the validation/test set and show true positives, true negatives,false positives, and false negatives (with different markers, colors, etc.)"
      ]
    },
    {
      "cell_type": "code",
      "metadata": {
        "id": "wf9ruWzflCfS",
        "colab_type": "code",
        "colab": {}
      },
      "source": [
        ""
      ],
      "execution_count": 0,
      "outputs": []
    }
  ]
}