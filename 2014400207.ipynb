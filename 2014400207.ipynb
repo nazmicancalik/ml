{
 "cells": [
  {
   "cell_type": "markdown",
   "metadata": {},
   "source": [
    "## CMPE 462 HOMEWORK 1\n",
    "Due Date: 21.03.2019"
   ]
  },
  {
   "cell_type": "code",
   "execution_count": 19,
   "metadata": {
    "collapsed": true
   },
   "outputs": [],
   "source": [
    "# Allowed libraries\n",
    "import numpy as np\n",
    "import matplotlib.pyplot as plt\n",
    "from sklearn import datasets\n",
    "# For loading data, you can import other libraries, but further usage is not allowed."
   ]
  },
  {
   "cell_type": "markdown",
   "metadata": {},
   "source": [
    "### 1.) Review bias/variance dilemma.\n",
    "Replicate the bias-variance-plot (bias,\n",
    "variance and error vs. model complexity) given in Figure 4.6 in the textbook\n",
    "or in lecture notes [W04.pdf, pg.52]. For this:\n",
    "\n",
    "* Generate 20 values {$x^t$} from the range [0, 5] from uniform distribution.  \n",
    "* Generate 100 different samples $X_s$. Each sample contains 20 instances {$x^t, y^t_s$} where $y^t_s = f(x^t) + \\epsilon$, $f(x) =2× sin(1.5 × x)$, and $ \\epsilon ∼ N (0, 1)$.\n",
    "* For each sample, fit polynomial models of order 1,3, and 5.\n",
    "* Plot bias, variance and error of these models."
   ]
  },
  {
   "cell_type": "code",
   "execution_count": 36,
   "metadata": {},
   "outputs": [
    {
     "name": "stdout",
     "output_type": "stream",
     "text": [
      "[[-2.1922584  -0.72953666 -2.66021368 ...,  0.03295722 -0.11362803\n",
      "  -1.15577319]\n",
      " [-3.99765816 -0.83195467 -3.01985801 ...,  3.65416616 -2.06986326\n",
      "  -0.42885204]\n",
      " [-3.43770064 -1.19032786 -4.10887042 ...,  1.21475253  0.1107038\n",
      "  -1.27869972]\n",
      " ..., \n",
      " [-0.18929495 -0.16713192 -1.36542754 ...,  1.64914847 -2.20447572\n",
      "  -1.35055818]\n",
      " [-0.18720956  0.25358105 -2.763279   ...,  1.44508492 -0.97518374\n",
      "  -0.2449053 ]\n",
      " [-2.37815995  0.49822148 -2.36553653 ...,  0.42458832 -1.24536912\n",
      "  -2.6629634 ]]\n"
     ]
    }
   ],
   "source": [
    "# Solution Here\n",
    "# Generate 100 different samples.\n",
    "SIZE = 20\n",
    "SAMPLE_COUNT = 100\n",
    "\n",
    "def polyfit(x,r,order):\n",
    "    D = []\n",
    "    for cur_x in x:\n",
    "        inter_l = []\n",
    "        for i in range(0,order+1):\n",
    "            inter_l.append(cur_x**i)\n",
    "        D.append(inter_l)\n",
    "    \n",
    "    r = np.array(r).T\n",
    "    D = np.array(D)\n",
    "    first_part = np.linalg.inv(np.matmul(D.T,D))\n",
    "    second_part = np.matmul(first_part,D.T)\n",
    "    w = np.matmul(second_part,r)\n",
    "    return w\n",
    "\n",
    "def calc_y(x):\n",
    "    return 2 * np.sin(1.5 * x)\n",
    "\n",
    "def get_fitting_polynomial(x,r,order):\n",
    "    w = polyfit()\n",
    "\n",
    "x_values = np.random.uniform(low=0,high=5,size=SIZE)\n",
    "r_values = []\n",
    "for i in range(SAMPLE_COUNT):\n",
    "    sample = calc_y(x_values) + np.random.normal(loc=0,scale=1,size=SIZE)\n",
    "    r_values.append(sample)\n",
    "\n",
    "r_values = np.array(r_values)\n",
    "print(r_values)\n",
    "\n",
    "#res = fit_polynomial(x_values, samples[])"
   ]
  },
  {
   "cell_type": "markdown",
   "metadata": {},
   "source": [
    "### 2.) Review cross-validation.\n",
    "Replicate the cross-validation error plot (training and validation error vs. model complexity plot) given in Figure 4.7 in the textbook or in lecture notes [W04.pdf, pg52]. For this:\n",
    "* Generate 10 samples containing 100 instances as in part 1.\n",
    "* Split each sample to training and validation sets, fit polynomial models of order 1,3, and 5.\n",
    "* Plot mean training and validation error (mean square error) of each model."
   ]
  },
  {
   "cell_type": "code",
   "execution_count": null,
   "metadata": {
    "collapsed": true
   },
   "outputs": [],
   "source": [
    "# Solution Here"
   ]
  },
  {
   "cell_type": "markdown",
   "metadata": {},
   "source": [
    "### 3.) Use of real dataset. \n",
    "Download Iris Data Set from UCI Machine Learning Repository. Randomly split it into training and test sets.\n",
    "* For each feature, plot histogram of classes. For better visualiziation, plot classes in same plot but with different colors. (For this you can use plt.subplots)\n",
    "* Consider only two classes: Iris Setosa and Iris Versicolour.\n",
    "* Assuming Gaussian distribution, apply parametric classification, and find which particular feature (sepal length, sepal width, petal length, petal width) is most successful in classifying instances.\n",
    "    - For this, treat each feature separately. find maximum likelihood estimate of the parameters $(μ, σ^2)$ of different classes using training set. (You can use plt.errorbar for visualization, use one column for each feature and visualize both classes in same plot using different colors).\n",
    "    - Using these parameters, predict the classes of the instances in the test set, and calculate the error."
   ]
  },
  {
   "cell_type": "code",
   "execution_count": 11,
   "metadata": {},
   "outputs": [
    {
     "name": "stdout",
     "output_type": "stream",
     "text": [
      "[0 0 0 0 0 0 0 0 0 0 0 0 0 0 0 0 0 0 0 0 0 0 0 0 0 0 0 0 0 0 0 0 0 0 0 0 0\n",
      " 0 0 0 0 0 0 0 0 0 0 0 0 0 1 1 1 1 1 1 1 1 1 1 1 1 1 1 1 1 1 1 1 1 1 1 1 1\n",
      " 1 1 1 1 1 1 1 1 1 1 1 1 1 1 1 1 1 1 1 1 1 1 1 1 1 1 2 2 2 2 2 2 2 2 2 2 2\n",
      " 2 2 2 2 2 2 2 2 2 2 2 2 2 2 2 2 2 2 2 2 2 2 2 2 2 2 2 2 2 2 2 2 2 2 2 2 2\n",
      " 2 2]\n"
     ]
    }
   ],
   "source": [
    "# Solution Here\n",
    "iris = datasets.load_iris()\n",
    "print(iris.target)"
   ]
  },
  {
   "cell_type": "code",
   "execution_count": null,
   "metadata": {
    "collapsed": true
   },
   "outputs": [],
   "source": []
  }
 ],
 "metadata": {
  "kernelspec": {
   "display_name": "Python 3",
   "language": "python",
   "name": "python3"
  },
  "language_info": {
   "codemirror_mode": {
    "name": "ipython",
    "version": 3
   },
   "file_extension": ".py",
   "mimetype": "text/x-python",
   "name": "python",
   "nbconvert_exporter": "python",
   "pygments_lexer": "ipython3",
   "version": "3.6.3"
  },
  "varInspector": {
   "cols": {
    "lenName": 16,
    "lenType": 16,
    "lenVar": 40
   },
   "kernels_config": {
    "python": {
     "delete_cmd_postfix": "",
     "delete_cmd_prefix": "del ",
     "library": "var_list.py",
     "varRefreshCmd": "print(var_dic_list())"
    },
    "r": {
     "delete_cmd_postfix": ") ",
     "delete_cmd_prefix": "rm(",
     "library": "var_list.r",
     "varRefreshCmd": "cat(var_dic_list()) "
    }
   },
   "types_to_exclude": [
    "module",
    "function",
    "builtin_function_or_method",
    "instance",
    "_Feature"
   ],
   "window_display": false
  }
 },
 "nbformat": 4,
 "nbformat_minor": 2
}
