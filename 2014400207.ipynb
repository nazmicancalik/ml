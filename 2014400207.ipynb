{
 "cells": [
  {
   "cell_type": "markdown",
   "metadata": {},
   "source": [
    "## CMPE 462 HOMEWORK 1\n",
    "Due Date: 21.03.2019"
   ]
  },
  {
   "cell_type": "code",
   "execution_count": 2,
   "metadata": {
    "collapsed": true
   },
   "outputs": [],
   "source": [
    "# Allowed libraries\n",
    "import numpy as np\n",
    "import matplotlib.pyplot as plt\n",
    "from sklearn import datasets\n",
    "# For loading data, you can import other libraries, but further usage is not allowed."
   ]
  },
  {
   "cell_type": "markdown",
   "metadata": {},
   "source": [
    "### 1.) Review bias/variance dilemma.\n",
    "Replicate the bias-variance-plot (bias,\n",
    "variance and error vs. model complexity) given in Figure 4.6 in the textbook\n",
    "or in lecture notes [W04.pdf, pg.52]. For this:\n",
    "\n",
    "* Generate 20 values {$x^t$} from the range [0, 5] from uniform distribution.  \n",
    "* Generate 100 different samples $X_s$. Each sample contains 20 instances {$x^t, y^t_s$} where $y^t_s = f(x^t) + \\epsilon$, $f(x) =2× sin(1.5 × x)$, and $ \\epsilon ∼ N (0, 1)$.\n",
    "* For each sample, fit polynomial models of order 1,3, and 5.\n",
    "* Plot bias, variance and error of these models."
   ]
  },
  {
   "cell_type": "code",
   "execution_count": 50,
   "metadata": {},
   "outputs": [
    {
     "name": "stdout",
     "output_type": "stream",
     "text": [
      "heere ()\n"
     ]
    },
    {
     "data": {
      "image/png": "[encoded data removed]",
      "text/plain": [
       "<matplotlib.figure.Figure at 0x7fab6a410198>"
      ]
     },
     "metadata": {},
     "output_type": "display_data"
    }
   ],
   "source": [
    "# Solution Here\n",
    "# Generate 100 different samples.\n",
    "SIZE = 20\n",
    "SAMPLE_COUNT = 100\n",
    "\n",
    "def polyfit(x,r,order):\n",
    "    D = []\n",
    "    for cur_x in x:\n",
    "        inter_l = []\n",
    "        for i in range(0,order+1):\n",
    "            inter_l.append(cur_x**i)\n",
    "        D.append(inter_l)\n",
    "    \n",
    "    r = np.array(r).T\n",
    "    D = np.array(D)\n",
    "    first_part = np.linalg.inv(np.matmul(D.T,D))\n",
    "    second_part = np.matmul(first_part,D.T)\n",
    "    w = np.matmul(second_part,r)\n",
    "    return w\n",
    "\n",
    "def calc_y(x):\n",
    "    return 2 * np.sin(1.5 * x)\n",
    "\n",
    "# g_mean is the order 1 means of lists of lists order_1_fits.\n",
    "def calc_bias(g_mean,r):\n",
    "    # Convert the lists to np arrays for convenience  \n",
    "    r = np.array(r)\n",
    "    g_mean = np.array(g_mean)\n",
    "    \n",
    "    bias_square = np.mean((g_mean - r)**2)\n",
    "    return np.sqrt(bias_square)\n",
    "\n",
    "# g is the order 1/3/5 (only one of them) fit lists of list.\n",
    "def calc_variance(g,g_mean):\n",
    "    g_mean = np.array(g_mean)\n",
    "    g_mean = np.tile(g_mean,(SAMPLE_COUNT,1))\n",
    "    \n",
    "    difference = g-g_mean\n",
    "    return np.mean(difference**2)\n",
    "\n",
    "def calc_g_mean(g):\n",
    "    g = np.array(g)\n",
    "    return np.mean(g, axis=0) \n",
    "    \n",
    "    \n",
    "def fit(x,r,order):\n",
    "    # I have implemented the polyfit myself, however I will use polyval for getting the polynom\n",
    "    coeffs = polyfit(x,r,order)\n",
    "    return np.polyval(coeffs,x)\n",
    "\n",
    "# Generate 20 values\n",
    "x_values = np.random.uniform(low=0,high=5,size=SIZE)\n",
    "r_values_list = []\n",
    "\n",
    "order_1_fits = []\n",
    "order_3_fits = []\n",
    "order_5_fits = []\n",
    "\n",
    "\n",
    "# Generate the samples\n",
    "# For each sample fit a polynomial model of order 1,3,5\n",
    "\n",
    "for i in range(SAMPLE_COUNT):\n",
    "    sample = calc_y(x_values) + np.random.normal(loc=0,scale=1,size=SIZE)\n",
    "    r_values_list.append(sample)\n",
    "    \n",
    "    fit_1 = fit(x_values,r_values[0],1)\n",
    "    order_1_fits.append(fit_1)\n",
    "    \n",
    "    fit_3 = fit(x_values,r_values[0],3)\n",
    "    order_3_fits.append(fit_3)\n",
    "    \n",
    "    fit_5 = fit(x_values,r_values[0],5)\n",
    "    order_5_fits.append(fit_5)\n",
    "\n",
    "    \n",
    "r_values_list = np.array(r_values_list)\n",
    "order_1_fits = np.array(order_1_fits)\n",
    "order_3_fits = np.array(order_3_fits)\n",
    "order_5_fits = np.array(order_5_fits)\n",
    "\n",
    "\n",
    "\n",
    "orders = [1,3,5]\n",
    "\n",
    "order_1_g_mean = calc_g_mean(order_1_fits)\n",
    "order_3_g_mean = calc_g_mean(order_3_fits)\n",
    "order_5_g_mean = calc_g_mean(order_5_fits)\n",
    "\n",
    "order_fit_means = [order_1_g_mean,order_3_g_mean,order_5_g_mean]\n",
    "\n",
    "bias_order_1 = calc_bias(order_1_g_mean,r_values_list)\n",
    "bias_order_3 = calc_bias(order_3_g_mean,r_values_list)\n",
    "bias_order_5 = calc_bias(order_5_g_mean,r_values_list)\n",
    "biases = [bias_order_1,bias_order_3,bias_order_5]\n",
    "\n",
    "# Calculate the variances for all orders\n",
    "variance_order_1 = calc_variance(order_1_fits,order_1_g_mean)\n",
    "variance_order_3 = calc_variance(order_3_fits,order_3_g_mean)\n",
    "variance_order_5 = calc_variance(order_5_fits,order_5_g_mean)\n",
    "print(\"heere\",variance_order_1.shape)\n",
    "variances = [variance_order_1,variance_order_3,variance_order_5]\n",
    "\n",
    "plt.ylabel('Error')\n",
    "plt.xlabel('Order')\n",
    "plt.plot(orders,biases,'b--',label='Bias')\n",
    "plt.plot(orders,variances,'r-.',label='Variance')\n",
    "#plt.plot(order,error,'g-',label='Error')\n",
    "plt.legend()\n",
    "plt.show()"
   ]
  },
  {
   "cell_type": "code",
   "execution_count": 18,
   "metadata": {},
   "outputs": [
    {
     "data": {
      "text/plain": [
       "array([ 2.,  5.,  3.])"
      ]
     },
     "execution_count": 18,
     "metadata": {},
     "output_type": "execute_result"
    }
   ],
   "source": [
    "# GOOD \n",
    "# This is the exact information I needed\n",
    "\n",
    "matrix = [[1,4,3],[2,6,3],[3,5,3]]\n",
    "matrix = np.array(matrix)\n",
    "matrix_mean = np.mean(matrix, axis=0) \n",
    "matrix_mean"
   ]
  },
  {
   "cell_type": "code",
   "execution_count": 32,
   "metadata": {},
   "outputs": [
    {
     "data": {
      "text/plain": [
       "array([[1, 2, 3],\n",
       "       [1, 2, 3],\n",
       "       [1, 2, 3]])"
      ]
     },
     "execution_count": 32,
     "metadata": {},
     "output_type": "execute_result"
    }
   ],
   "source": [
    "# EXACT THING I NEED WHEN PUTTING SAME MEAN TO EVERY ROW WHEN CALCULATING VAR\n",
    "row = [1,2,3]\n",
    "row = np.array(row)\n",
    "\n",
    "x = np.tile(row,(3,1))\n",
    "x"
   ]
  },
  {
   "cell_type": "markdown",
   "metadata": {},
   "source": [
    "### 2.) Review cross-validation.\n",
    "Replicate the cross-validation error plot (training and validation error vs. model complexity plot) given in Figure 4.7 in the textbook or in lecture notes [W04.pdf, pg52]. For this:\n",
    "* Generate 10 samples containing 100 instances as in part 1.\n",
    "* Split each sample to training and validation sets, fit polynomial models of order 1,3, and 5.\n",
    "* Plot mean training and validation error (mean square error) of each model."
   ]
  },
  {
   "cell_type": "code",
   "execution_count": null,
   "metadata": {
    "collapsed": true
   },
   "outputs": [],
   "source": [
    "# Solution Here"
   ]
  },
  {
   "cell_type": "markdown",
   "metadata": {},
   "source": [
    "### 3.) Use of real dataset. \n",
    "Download Iris Data Set from UCI Machine Learning Repository. Randomly split it into training and test sets.\n",
    "* For each feature, plot histogram of classes. For better visualiziation, plot classes in same plot but with different colors. (For this you can use plt.subplots)\n",
    "* Consider only two classes: Iris Setosa and Iris Versicolour.\n",
    "* Assuming Gaussian distribution, apply parametric classification, and find which particular feature (sepal length, sepal width, petal length, petal width) is most successful in classifying instances.\n",
    "    - For this, treat each feature separately. find maximum likelihood estimate of the parameters $(μ, σ^2)$ of different classes using training set. (You can use plt.errorbar for visualization, use one column for each feature and visualize both classes in same plot using different colors).\n",
    "    - Using these parameters, predict the classes of the instances in the test set, and calculate the error."
   ]
  },
  {
   "cell_type": "code",
   "execution_count": 11,
   "metadata": {},
   "outputs": [
    {
     "name": "stdout",
     "output_type": "stream",
     "text": [
      "[0 0 0 0 0 0 0 0 0 0 0 0 0 0 0 0 0 0 0 0 0 0 0 0 0 0 0 0 0 0 0 0 0 0 0 0 0\n",
      " 0 0 0 0 0 0 0 0 0 0 0 0 0 1 1 1 1 1 1 1 1 1 1 1 1 1 1 1 1 1 1 1 1 1 1 1 1\n",
      " 1 1 1 1 1 1 1 1 1 1 1 1 1 1 1 1 1 1 1 1 1 1 1 1 1 1 2 2 2 2 2 2 2 2 2 2 2\n",
      " 2 2 2 2 2 2 2 2 2 2 2 2 2 2 2 2 2 2 2 2 2 2 2 2 2 2 2 2 2 2 2 2 2 2 2 2 2\n",
      " 2 2]\n"
     ]
    }
   ],
   "source": [
    "# Solution Here\n",
    "iris = datasets.load_iris()\n",
    "print(iris.target)"
   ]
  },
  {
   "cell_type": "code",
   "execution_count": null,
   "metadata": {
    "collapsed": true
   },
   "outputs": [],
   "source": []
  }
 ],
 "metadata": {
  "kernelspec": {
   "display_name": "Python 3",
   "language": "python",
   "name": "python3"
  },
  "language_info": {
   "codemirror_mode": {
    "name": "ipython",
    "version": 3
   },
   "file_extension": ".py",
   "mimetype": "text/x-python",
   "name": "python",
   "nbconvert_exporter": "python",
   "pygments_lexer": "ipython3",
   "version": "3.6.3"
  },
  "varInspector": {
   "cols": {
    "lenName": 16,
    "lenType": 16,
    "lenVar": 40
   },
   "kernels_config": {
    "python": {
     "delete_cmd_postfix": "",
     "delete_cmd_prefix": "del ",
     "library": "var_list.py",
     "varRefreshCmd": "print(var_dic_list())"
    },
    "r": {
     "delete_cmd_postfix": ") ",
     "delete_cmd_prefix": "rm(",
     "library": "var_list.r",
     "varRefreshCmd": "cat(var_dic_list()) "
    }
   },
   "types_to_exclude": [
    "module",
    "function",
    "builtin_function_or_method",
    "instance",
    "_Feature"
   ],
   "window_display": false
  }
 },
 "nbformat": 4,
 "nbformat_minor": 2
}
