{
 "cells": [
  {
   "cell_type": "markdown",
   "metadata": {},
   "source": [
    "## CMPE 462 HOMEWORK 1\n",
    "Due Date: 21.03.2019"
   ]
  },
  {
   "cell_type": "code",
   "execution_count": 1,
   "metadata": {
    "collapsed": true
   },
   "outputs": [],
   "source": [
    "# Allowed libraries\n",
    "import numpy as np\n",
    "import matplotlib.pyplot as plt\n",
    "# For loading data, you can import other libraries, but further usage is not allowed."
   ]
  },
  {
   "cell_type": "markdown",
   "metadata": {},
   "source": [
    "### 1.) Review bias/variance dilemma.\n",
    "Replicate the bias-variance-plot (bias,\n",
    "variance and error vs. model complexity) given in Figure 4.6 in the textbook\n",
    "or in lecture notes [W04.pdf, pg.52]. For this:\n",
    "\n",
    "* Generate 20 values {$x^t$} from the range [0, 5] from uniform distribution.  \n",
    "* Generate 100 different samples $X_s$. Each sample contains 20 instances {$x^t, y^t_s$} where $y^t_s = f(x^t) + \\epsilon$, $f(x) =2× sin(1.5 × x)$, and $ \\epsilon ∼ N (0, 1)$.\n",
    "* For each sample, fit polynomial models of order 1,3, and 5.\n",
    "* Plot bias, variance and error of these models."
   ]
  },
  {
   "cell_type": "code",
   "execution_count": 8,
   "metadata": {
    "collapsed": true
   },
   "outputs": [],
   "source": [
    "SIZE = 20\n",
    "SAMPLE_COUNT = 100"
   ]
  },
  {
   "cell_type": "code",
   "execution_count": 9,
   "metadata": {
    "collapsed": true
   },
   "outputs": [],
   "source": [
    "# Solution Here\n",
    "x_values = np.random.uniform(low=0,high=5,size=SIZE)"
   ]
  },
  {
   "cell_type": "code",
   "execution_count": 12,
   "metadata": {
    "collapsed": true
   },
   "outputs": [],
   "source": [
    "def calc_y(x):\n",
    "    return 2 * np.sin(1.5 * x)"
   ]
  },
  {
   "cell_type": "code",
   "execution_count": 14,
   "metadata": {},
   "outputs": [],
   "source": [
    "# Generate 100 different samples.\n",
    "samples = []\n",
    "for i in range(SAMPLE_COUNT):\n",
    "    sample = []\n",
    "    for x_value in x_values:\n",
    "        sample.append((x_value,calc_y(x_value) + np.random.normal(loc=0,scale=1)))\n",
    "    samples.append(sample)\n"
   ]
  },
  {
   "cell_type": "code",
   "execution_count": 18,
   "metadata": {},
   "outputs": [
    {
     "data": {
      "text/plain": [
       "[(2.7718741090896821, -0.82413176775662411),\n",
       " (3.834729525969145, -0.70190328316160788),\n",
       " (3.4333070679590953, -1.6165967142327755),\n",
       " (0.63655007543930497, 0.29469827691122985),\n",
       " (4.8464562437980838, 1.4601126392024397),\n",
       " (1.1569890272293497, 1.9629207564142488),\n",
       " (4.5675068640726826, 1.6683746359428797),\n",
       " (0.56429679787658726, 0.38697016846876608),\n",
       " (4.8890777644327281, 0.98026196172197944),\n",
       " (3.6813519302760622, -2.0263363186846872),\n",
       " (0.017299436220963305, 0.029392164519705243),\n",
       " (4.0722250246694189, -0.62912499087500984),\n",
       " (0.88921719077492911, 1.9195381900254589),\n",
       " (0.10919031351348363, 1.1014646397993486),\n",
       " (2.6009354551767565, 0.028872017772727743),\n",
       " (2.6069438343243183, -3.443719784199486),\n",
       " (1.1968145335971476, 2.5317086204326871),\n",
       " (1.7601006454529307, 1.071079311427374),\n",
       " (3.2676912616416756, -2.5995374492409624),\n",
       " (2.4695346870838115, -2.3115823941153253)]"
      ]
     },
     "execution_count": 18,
     "metadata": {},
     "output_type": "execute_result"
    }
   ],
   "source": [
    "samples[2]"
   ]
  },
  {
   "cell_type": "markdown",
   "metadata": {},
   "source": [
    "### 2.) Review cross-validation.\n",
    "Replicate the cross-validation error plot (training and validation error vs. model complexity plot) given in Figure 4.7 in the textbook or in lecture notes [W04.pdf, pg52]. For this:\n",
    "* Generate 10 samples containing 100 instances as in part 1.\n",
    "* Split each sample to training and validation sets, fit polynomial models of order 1,3, and 5.\n",
    "* Plot mean training and validation error (mean square error) of each model."
   ]
  },
  {
   "cell_type": "code",
   "execution_count": null,
   "metadata": {
    "collapsed": true
   },
   "outputs": [],
   "source": [
    "# Solution Here"
   ]
  },
  {
   "cell_type": "markdown",
   "metadata": {},
   "source": [
    "### 3.) Use of real dataset. \n",
    "Download Iris Data Set from UCI Machine Learning Repository. Randomly split it into training and test sets.\n",
    "* For each feature, plot histogram of classes. For better visualiziation, plot classes in same plot but with different colors. (For this you can use plt.subplots)\n",
    "* Consider only two classes: Iris Setosa and Iris Versicolour.\n",
    "* Assuming Gaussian distribution, apply parametric classification, and find which particular feature (sepal length, sepal width, petal length, petal width) is most successful in classifying instances.\n",
    "    - For this, treat each feature separately. find maximum likelihood estimate of the parameters $(μ, σ^2)$ of different classes using training set. (You can use plt.errorbar for visualization, use one column for each feature and visualize both classes in same plot using different colors).\n",
    "    - Using these parameters, predict the classes of the instances in the test set, and calculate the error."
   ]
  },
  {
   "cell_type": "code",
   "execution_count": null,
   "metadata": {
    "collapsed": true
   },
   "outputs": [],
   "source": [
    "# Solution Here"
   ]
  }
 ],
 "metadata": {
  "kernelspec": {
   "display_name": "Python 3",
   "language": "python",
   "name": "python3"
  },
  "language_info": {
   "codemirror_mode": {
    "name": "ipython",
    "version": 3
   },
   "file_extension": ".py",
   "mimetype": "text/x-python",
   "name": "python",
   "nbconvert_exporter": "python",
   "pygments_lexer": "ipython3",
   "version": "3.6.3"
  },
  "varInspector": {
   "cols": {
    "lenName": 16,
    "lenType": 16,
    "lenVar": 40
   },
   "kernels_config": {
    "python": {
     "delete_cmd_postfix": "",
     "delete_cmd_prefix": "del ",
     "library": "var_list.py",
     "varRefreshCmd": "print(var_dic_list())"
    },
    "r": {
     "delete_cmd_postfix": ") ",
     "delete_cmd_prefix": "rm(",
     "library": "var_list.r",
     "varRefreshCmd": "cat(var_dic_list()) "
    }
   },
   "types_to_exclude": [
    "module",
    "function",
    "builtin_function_or_method",
    "instance",
    "_Feature"
   ],
   "window_display": false
  }
 },
 "nbformat": 4,
 "nbformat_minor": 2
}
