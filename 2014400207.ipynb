{
 "cells": [
  {
   "cell_type": "markdown",
   "metadata": {},
   "source": [
    "## CMPE 462 HOMEWORK 1\n",
    "Due Date: 21.03.2019"
   ]
  },
  {
   "cell_type": "code",
   "execution_count": 1,
   "metadata": {
    "collapsed": true
   },
   "outputs": [],
   "source": [
    "# Allowed libraries\n",
    "import numpy as np\n",
    "import matplotlib.pyplot as plt\n",
    "from sklearn import datasets\n",
    "# For loading data, you can import other libraries, but further usage is not allowed."
   ]
  },
  {
   "cell_type": "markdown",
   "metadata": {},
   "source": [
    "### 1.) Review bias/variance dilemma.\n",
    "Replicate the bias-variance-plot (bias,\n",
    "variance and error vs. model complexity) given in Figure 4.6 in the textbook\n",
    "or in lecture notes [W04.pdf, pg.52]. For this:\n",
    "\n",
    "* Generate 20 values {$x^t$} from the range [0, 5] from uniform distribution.  \n",
    "* Generate 100 different samples $X_s$. Each sample contains 20 instances {$x^t, y^t_s$} where $y^t_s = f(x^t) + \\epsilon$, $f(x) =2× sin(1.5 × x)$, and $ \\epsilon ∼ N (0, 1)$.\n",
    "* For each sample, fit polynomial models of order 1,3, and 5.\n",
    "* Plot bias, variance and error of these models."
   ]
  },
  {
   "cell_type": "code",
   "execution_count": 8,
   "metadata": {},
   "outputs": [
    {
     "name": "stdout",
     "output_type": "stream",
     "text": [
      "*****\n",
      "2.08870177319\n",
      "14.2535970779\n",
      "45.0881345496\n",
      "*****\n",
      "[-0.03241966  0.09961928 -0.05910546 -0.11615929  0.28422404 -0.11963839\n",
      "  0.09633947  0.29489232 -0.01844201 -0.02699418  0.12336217 -0.11174313\n",
      "  0.17328734  0.08888127  0.22002231  0.2523893   0.11129227  0.05303574\n",
      " -0.113778    0.1608171 ]\n",
      "[  8.73296352e-01   1.40177551e+01   2.06649961e-01  -4.67232976e-02\n",
      "   8.07376618e+01  -2.96275669e-02   1.34245502e+01   8.70257203e+01\n",
      "   1.41968099e+00   1.06772864e+00   1.88212048e+01  -6.49448745e-02\n",
      "   3.21349171e+01   1.21363054e+01   4.91105708e+01   6.37686361e+01\n",
      "   1.62653244e+01   7.04571565e+00  -5.70617806e-02   2.83716264e+01]\n",
      "[ -2.66483560e+00   4.49569415e+01  -2.28138089e-01  -8.30426249e-03\n",
      "   5.48437741e+03  -3.60670300e-03   3.60156766e+01   6.42764093e+03\n",
      "  -5.18557246e+00  -3.53820404e+00   1.43539254e+02  -1.06609313e-02\n",
      "   6.61660301e+02   1.90202972e+01   1.83523584e+03   3.29553249e+03\n",
      "   8.52639359e+01  -1.65258123e+01  -1.03157789e-02   4.78848314e+02]\n"
     ]
    }
   ],
   "source": [
    "# Solution Here\n",
    "# Generate 100 different samples.\n",
    "SIZE = 20\n",
    "SAMPLE_COUNT = 100\n",
    "\n",
    "def polyfit(x,r,order):\n",
    "    D = []\n",
    "    for cur_x in x:\n",
    "        inter_l = []\n",
    "        for i in range(0,order+1):\n",
    "            inter_l.append(cur_x**i)\n",
    "        D.append(inter_l)\n",
    "    \n",
    "    r = np.array(r).T\n",
    "    D = np.array(D)\n",
    "    first_part = np.linalg.inv(np.matmul(D.T,D))\n",
    "    second_part = np.matmul(first_part,D.T)\n",
    "    w = np.matmul(second_part,r)\n",
    "    return w\n",
    "\n",
    "def calc_y(x):\n",
    "    return 2 * np.sin(1.5 * x)\n",
    "\n",
    "def calc_bias(y,y_fits):\n",
    "    fit_mean = np.mean(y_fits)\n",
    "    return np.sqrt(np.mean((fit_mean-y)**2))\n",
    "\n",
    "def fit(x,r,order):\n",
    "    # I have implemented the polyfit myself, however I will use polyval for getting the polynom\n",
    "    coeffs = polyfit(x,r,order)\n",
    "    return np.polyval(coeffs,x)\n",
    "\n",
    "x_values = np.random.uniform(low=0,high=5,size=SIZE)\n",
    "r_values = []\n",
    "\n",
    "y_fits_order_1 = []\n",
    "y_fits_order_3 = []\n",
    "y_fits_order_5 = []\n",
    "\n",
    "# Generate the samples\n",
    "for i in range(SAMPLE_COUNT):\n",
    "    sample = calc_y(x_values) + np.random.normal(loc=0,scale=1,size=SIZE)\n",
    "    r_values.append(sample)\n",
    "    \n",
    "    val_order_1 = fit(x_values,r_values[0],orders[0])\n",
    "    y_fits_order_1.append(val_order_1)\n",
    "    \n",
    "    val_order_3 = fit(x_values,r_values[0],orders[1])\n",
    "    y_fits_order_3.append(val_order_3)\n",
    "    \n",
    "    val_order_5 = fit(x_values,r_values[0],orders[2])\n",
    "    y_fits_order_5.append(val_order_5)\n",
    "    \n",
    "\n",
    "r_values = np.array(r_values)\n",
    "\n",
    "orders = [1,3,5]\n",
    "\n",
    "print(\"*****\")\n",
    "print(calc_bias(r_values[1],val_order_1[1]))\n",
    "print(calc_bias(r_values[1],val_order_3[1]))\n",
    "print(calc_bias(r_values[1],val_order_5[1]))\n",
    "print(\"*****\")\n",
    "\n",
    "\n",
    "print(val_order_1)\n",
    "print(val_order_3)\n",
    "print(val_order_5)"
   ]
  },
  {
   "cell_type": "markdown",
   "metadata": {},
   "source": [
    "### 2.) Review cross-validation.\n",
    "Replicate the cross-validation error plot (training and validation error vs. model complexity plot) given in Figure 4.7 in the textbook or in lecture notes [W04.pdf, pg52]. For this:\n",
    "* Generate 10 samples containing 100 instances as in part 1.\n",
    "* Split each sample to training and validation sets, fit polynomial models of order 1,3, and 5.\n",
    "* Plot mean training and validation error (mean square error) of each model."
   ]
  },
  {
   "cell_type": "code",
   "execution_count": null,
   "metadata": {
    "collapsed": true
   },
   "outputs": [],
   "source": [
    "# Solution Here"
   ]
  },
  {
   "cell_type": "markdown",
   "metadata": {},
   "source": [
    "### 3.) Use of real dataset. \n",
    "Download Iris Data Set from UCI Machine Learning Repository. Randomly split it into training and test sets.\n",
    "* For each feature, plot histogram of classes. For better visualiziation, plot classes in same plot but with different colors. (For this you can use plt.subplots)\n",
    "* Consider only two classes: Iris Setosa and Iris Versicolour.\n",
    "* Assuming Gaussian distribution, apply parametric classification, and find which particular feature (sepal length, sepal width, petal length, petal width) is most successful in classifying instances.\n",
    "    - For this, treat each feature separately. find maximum likelihood estimate of the parameters $(μ, σ^2)$ of different classes using training set. (You can use plt.errorbar for visualization, use one column for each feature and visualize both classes in same plot using different colors).\n",
    "    - Using these parameters, predict the classes of the instances in the test set, and calculate the error."
   ]
  },
  {
   "cell_type": "code",
   "execution_count": 11,
   "metadata": {},
   "outputs": [
    {
     "name": "stdout",
     "output_type": "stream",
     "text": [
      "[0 0 0 0 0 0 0 0 0 0 0 0 0 0 0 0 0 0 0 0 0 0 0 0 0 0 0 0 0 0 0 0 0 0 0 0 0\n",
      " 0 0 0 0 0 0 0 0 0 0 0 0 0 1 1 1 1 1 1 1 1 1 1 1 1 1 1 1 1 1 1 1 1 1 1 1 1\n",
      " 1 1 1 1 1 1 1 1 1 1 1 1 1 1 1 1 1 1 1 1 1 1 1 1 1 1 2 2 2 2 2 2 2 2 2 2 2\n",
      " 2 2 2 2 2 2 2 2 2 2 2 2 2 2 2 2 2 2 2 2 2 2 2 2 2 2 2 2 2 2 2 2 2 2 2 2 2\n",
      " 2 2]\n"
     ]
    }
   ],
   "source": [
    "# Solution Here\n",
    "iris = datasets.load_iris()\n",
    "print(iris.target)"
   ]
  },
  {
   "cell_type": "code",
   "execution_count": null,
   "metadata": {
    "collapsed": true
   },
   "outputs": [],
   "source": []
  }
 ],
 "metadata": {
  "kernelspec": {
   "display_name": "Python 3",
   "language": "python",
   "name": "python3"
  },
  "language_info": {
   "codemirror_mode": {
    "name": "ipython",
    "version": 3
   },
   "file_extension": ".py",
   "mimetype": "text/x-python",
   "name": "python",
   "nbconvert_exporter": "python",
   "pygments_lexer": "ipython3",
   "version": "3.6.3"
  },
  "varInspector": {
   "cols": {
    "lenName": 16,
    "lenType": 16,
    "lenVar": 40
   },
   "kernels_config": {
    "python": {
     "delete_cmd_postfix": "",
     "delete_cmd_prefix": "del ",
     "library": "var_list.py",
     "varRefreshCmd": "print(var_dic_list())"
    },
    "r": {
     "delete_cmd_postfix": ") ",
     "delete_cmd_prefix": "rm(",
     "library": "var_list.r",
     "varRefreshCmd": "cat(var_dic_list()) "
    }
   },
   "types_to_exclude": [
    "module",
    "function",
    "builtin_function_or_method",
    "instance",
    "_Feature"
   ],
   "window_display": false
  }
 },
 "nbformat": 4,
 "nbformat_minor": 2
}
