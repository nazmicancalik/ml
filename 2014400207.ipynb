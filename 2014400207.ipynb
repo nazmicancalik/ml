{
 "cells": [
  {
   "cell_type": "markdown",
   "metadata": {},
   "source": [
    "## CMPE 462 HOMEWORK 1\n",
    "Due Date: 21.03.2019"
   ]
  },
  {
   "cell_type": "code",
   "execution_count": null,
   "metadata": {},
   "outputs": [],
   "source": [
    "# Allowed libraries\n",
    "import numpy as np\n",
    "import matplotlib.pyplot as plt\n",
    "# For loading data, you can import other libraries, but further usage is not allowed."
   ]
  },
  {
   "cell_type": "markdown",
   "metadata": {},
   "source": [
    "### 1.) Review bias/variance dilemma.\n",
    "Replicate the bias-variance-plot (bias,\n",
    "variance and error vs. model complexity) given in Figure 4.6 in the textbook\n",
    "or in lecture notes [W04.pdf, pg.52]. For this:\n",
    "\n",
    "* Generate 20 values {$x^t$} from the range [0, 5] from uniform distribution.  \n",
    "* Generate 100 different samples $X_s$. Each sample contains 20 instances {$x^t, y^t_s$} where $y^t_s = f(x^t) + \\epsilon$, $f(x) =2× sin(1.5 × x)$, and $ \\epsilon ∼ N (0, 1)$.\n",
    "* For each sample, fit polynomial models of order 1,3, and 5.\n",
    "* Plot bias, variance and error of these models."
   ]
  },
  {
   "cell_type": "code",
   "execution_count": null,
   "metadata": {},
   "outputs": [],
   "source": [
    "# Solution Here"
   ]
  },
  {
   "cell_type": "markdown",
   "metadata": {},
   "source": [
    "### 2.) Review cross-validation.\n",
    "Replicate the cross-validation error plot (training and validation error vs. model complexity plot) given in Figure 4.7 in the textbook or in lecture notes [W04.pdf, pg52]. For this:\n",
    "* Generate 10 samples containing 100 instances as in part 1.\n",
    "* Split each sample to training and validation sets, fit polynomial models of order 1,3, and 5.\n",
    "* Plot mean training and validation error (mean square error) of each model."
   ]
  },
  {
   "cell_type": "code",
   "execution_count": null,
   "metadata": {},
   "outputs": [],
   "source": [
    "# Solution Here"
   ]
  },
  {
   "cell_type": "markdown",
   "metadata": {},
   "source": [
    "### 3.) Use of real dataset. \n",
    "Download Iris Data Set from UCI Machine Learning Repository. Randomly split it into training and test sets.\n",
    "* For each feature, plot histogram of classes. For better visualiziation, plot classes in same plot but with different colors. (For this you can use plt.subplots)\n",
    "* Consider only two classes: Iris Setosa and Iris Versicolour.\n",
    "* Assuming Gaussian distribution, apply parametric classification, and find which particular feature (sepal length, sepal width, petal length, petal width) is most successful in classifying instances.\n",
    "    - For this, treat each feature separately. find maximum likelihood estimate of the parameters $(μ, σ^2)$ of different classes using training set. (You can use plt.errorbar for visualization, use one column for each feature and visualize both classes in same plot using different colors).\n",
    "    - Using these parameters, predict the classes of the instances in the test set, and calculate the error."
   ]
  },
  {
   "cell_type": "code",
   "execution_count": null,
   "metadata": {},
   "outputs": [],
   "source": [
    "# Solution Here"
   ]
  }
 ],
 "metadata": {
  "kernelspec": {
   "display_name": "Python 2",
   "language": "python",
   "name": "python2"
  },
  "language_info": {
   "codemirror_mode": {
    "name": "ipython",
    "version": 2
   },
   "file_extension": ".py",
   "mimetype": "text/x-python",
   "name": "python",
   "nbconvert_exporter": "python",
   "pygments_lexer": "ipython2",
   "version": "2.7.15"
  },
  "varInspector": {
   "cols": {
    "lenName": 16,
    "lenType": 16,
    "lenVar": 40
   },
   "kernels_config": {
    "python": {
     "delete_cmd_postfix": "",
     "delete_cmd_prefix": "del ",
     "library": "var_list.py",
     "varRefreshCmd": "print(var_dic_list())"
    },
    "r": {
     "delete_cmd_postfix": ") ",
     "delete_cmd_prefix": "rm(",
     "library": "var_list.r",
     "varRefreshCmd": "cat(var_dic_list()) "
    }
   },
   "types_to_exclude": [
    "module",
    "function",
    "builtin_function_or_method",
    "instance",
    "_Feature"
   ],
   "window_display": false
  }
 },
 "nbformat": 4,
 "nbformat_minor": 2
}
