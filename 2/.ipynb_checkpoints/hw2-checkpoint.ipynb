{
 "cells": [
  {
   "cell_type": "markdown",
   "metadata": {
    "colab_type": "text",
    "id": "TUkyNNPWTBPJ"
   },
   "source": [
    "## CMPE 462 HOMEWORK 2\n"
   ]
  },
  {
   "cell_type": "code",
   "execution_count": 1,
   "metadata": {
    "colab": {},
    "colab_type": "code",
    "collapsed": true,
    "id": "yoISMLx4TBPL"
   },
   "outputs": [],
   "source": [
    "# Allowed Libraries\n",
    "import numpy as np\n",
    "import matplotlib.pyplot as plt\n",
    "import matplotlib"
   ]
  },
  {
   "cell_type": "markdown",
   "metadata": {
    "colab_type": "text",
    "id": "D0LRt7BwTBPQ"
   },
   "source": [
    "# Part 1: Dimensionality Reduction"
   ]
  },
  {
   "cell_type": "markdown",
   "metadata": {
    "colab_type": "text",
    "id": "vg75m6bRTBPS"
   },
   "source": [
    "# A: Creating Datasets\n",
    "Steps:\n",
    "* Generate 500 points from $\\frac{x^2}{2^2}+ \\frac{y^2}{5^2} \\le 1$(From ellipse with 2, 5 radius on the x and y axes respectively). Example way:\n",
    "    - Generate 500 angle values $\\{\\theta^t\\}$ in range $[-\\pi,+\\pi]$\n",
    "    - Generate 500 values $\\{r^t\\}$ in range $[0,1]$\n",
    "    - Generate 500 points $\\{x^t,y^t\\}$ where $x^t = 2r^tsin(\\theta^t)$ and $y^t = 5r^tcos(\\theta^t)$.\n",
    "* Generate 3 set of labels. Do it by dividing data using following Lines (eg. one side of line is label 0, other side is label 1)\n",
    "    - $y=0$ line\n",
    "    - $x=0$ line \n",
    "    - $y=3x +1$ line \n",
    "* Visualize points with each set of labels in subplots with 1 row, 3 columns where each column corresponds to one set of labels. (Use different colors for each label.)  "
   ]
  },
  {
   "cell_type": "code",
   "execution_count": 4,
   "metadata": {
    "colab": {},
    "colab_type": "code",
    "id": "cpdtUZUDTBPT"
   },
   "outputs": [
    {
     "ename": "ValueError",
     "evalue": "too many values to unpack (expected 2)",
     "output_type": "error",
     "traceback": [
      "\u001b[0;31m---------------------------------------------------------------------------\u001b[0m",
      "\u001b[0;31mValueError\u001b[0m                                Traceback (most recent call last)",
      "\u001b[0;32m<ipython-input-4-0c15dd23b406>\u001b[0m in \u001b[0;36m<module>\u001b[0;34m()\u001b[0m\n\u001b[1;32m     47\u001b[0m \u001b[0;34m\u001b[0m\u001b[0m\n\u001b[1;32m     48\u001b[0m     \u001b[0mplt\u001b[0m\u001b[0;34m.\u001b[0m\u001b[0mshow\u001b[0m\u001b[0;34m(\u001b[0m\u001b[0;34m)\u001b[0m\u001b[0;34m\u001b[0m\u001b[0m\n\u001b[0;32m---> 49\u001b[0;31m \u001b[0mvisualize_data\u001b[0m\u001b[0;34m(\u001b[0m\u001b[0;34m)\u001b[0m\u001b[0;34m\u001b[0m\u001b[0m\n\u001b[0m",
      "\u001b[0;32m<ipython-input-4-0c15dd23b406>\u001b[0m in \u001b[0;36mvisualize_data\u001b[0;34m()\u001b[0m\n\u001b[1;32m     34\u001b[0m \u001b[0;34m\u001b[0m\u001b[0m\n\u001b[1;32m     35\u001b[0m     \u001b[0maxs\u001b[0m\u001b[0;34m[\u001b[0m\u001b[0;36m0\u001b[0m\u001b[0;34m]\u001b[0m\u001b[0;34m.\u001b[0m\u001b[0mscatter\u001b[0m\u001b[0;34m(\u001b[0m\u001b[0mx_values\u001b[0m\u001b[0;34m,\u001b[0m \u001b[0my_values\u001b[0m\u001b[0;34m,\u001b[0m \u001b[0mc\u001b[0m\u001b[0;34m=\u001b[0m\u001b[0mlabels\u001b[0m\u001b[0;34m[\u001b[0m\u001b[0;34m:\u001b[0m\u001b[0;34m,\u001b[0m\u001b[0;36m0\u001b[0m\u001b[0;34m]\u001b[0m\u001b[0;34m,\u001b[0m \u001b[0mcmap\u001b[0m\u001b[0;34m=\u001b[0m\u001b[0mmatplotlib\u001b[0m\u001b[0;34m.\u001b[0m\u001b[0mcolors\u001b[0m\u001b[0;34m.\u001b[0m\u001b[0mListedColormap\u001b[0m\u001b[0;34m(\u001b[0m\u001b[0mcolors\u001b[0m\u001b[0;34m)\u001b[0m\u001b[0;34m)\u001b[0m\u001b[0;34m\u001b[0m\u001b[0m\n\u001b[0;32m---> 36\u001b[0;31m     \u001b[0maxs\u001b[0m\u001b[0;34m[\u001b[0m\u001b[0;36m0\u001b[0m\u001b[0;34m]\u001b[0m\u001b[0;34m.\u001b[0m\u001b[0mset_xlim\u001b[0m\u001b[0;34m(\u001b[0m\u001b[0mlim\u001b[0m\u001b[0;34m)\u001b[0m\u001b[0;34m\u001b[0m\u001b[0m\n\u001b[0m\u001b[1;32m     37\u001b[0m     \u001b[0maxs\u001b[0m\u001b[0;34m[\u001b[0m\u001b[0;36m0\u001b[0m\u001b[0;34m]\u001b[0m\u001b[0;34m.\u001b[0m\u001b[0mset_ylim\u001b[0m\u001b[0;34m(\u001b[0m\u001b[0mlim\u001b[0m\u001b[0;34m)\u001b[0m\u001b[0;34m\u001b[0m\u001b[0m\n\u001b[1;32m     38\u001b[0m \u001b[0;34m\u001b[0m\u001b[0m\n",
      "\u001b[0;32m~/anaconda/lib/python3.6/site-packages/matplotlib/axes/_base.py\u001b[0m in \u001b[0;36mset_xlim\u001b[0;34m(self, left, right, emit, auto, **kw)\u001b[0m\n\u001b[1;32m   2900\u001b[0m \u001b[0;34m\u001b[0m\u001b[0m\n\u001b[1;32m   2901\u001b[0m         \u001b[0;32mif\u001b[0m \u001b[0mright\u001b[0m \u001b[0;32mis\u001b[0m \u001b[0;32mNone\u001b[0m \u001b[0;32mand\u001b[0m \u001b[0miterable\u001b[0m\u001b[0;34m(\u001b[0m\u001b[0mleft\u001b[0m\u001b[0;34m)\u001b[0m\u001b[0;34m:\u001b[0m\u001b[0;34m\u001b[0m\u001b[0m\n\u001b[0;32m-> 2902\u001b[0;31m             \u001b[0mleft\u001b[0m\u001b[0;34m,\u001b[0m \u001b[0mright\u001b[0m \u001b[0;34m=\u001b[0m \u001b[0mleft\u001b[0m\u001b[0;34m\u001b[0m\u001b[0m\n\u001b[0m\u001b[1;32m   2903\u001b[0m \u001b[0;34m\u001b[0m\u001b[0m\n\u001b[1;32m   2904\u001b[0m         \u001b[0mself\u001b[0m\u001b[0;34m.\u001b[0m\u001b[0m_process_unit_info\u001b[0m\u001b[0;34m(\u001b[0m\u001b[0mxdata\u001b[0m\u001b[0;34m=\u001b[0m\u001b[0;34m(\u001b[0m\u001b[0mleft\u001b[0m\u001b[0;34m,\u001b[0m \u001b[0mright\u001b[0m\u001b[0;34m)\u001b[0m\u001b[0;34m)\u001b[0m\u001b[0;34m\u001b[0m\u001b[0m\n",
      "\u001b[0;31mValueError\u001b[0m: too many values to unpack (expected 2)"
     ]
    }
   ],
   "source": [
    "SIZE = 500\n",
    "def generate_labels(x_values,y_values):\n",
    "    labels = []\n",
    "    for index,x in enumerate(x_values):\n",
    "        first_label = 0 if y_values[index] < 0 else 1\n",
    "        second_label = 0 if x < 0 else 1\n",
    "        third_label = 0 if (y_values[index] < (3*x + 1)) else 1\n",
    "        labels.append((first_label,second_label,third_label))\n",
    "    return np.array(labels)\n",
    "        \n",
    "def __generate_x_y_values__(theta_values,r_values):\n",
    "    x_values = []\n",
    "    y_values = [] \n",
    "    for index,r in enumerate(r_values):\n",
    "        x_values.append(2*r*np.sin(theta_values[index]))\n",
    "        y_values.append(5*r*np.cos(theta_values[index]))\n",
    "    return np.array(x_values),np.array(y_values)\n",
    "\n",
    "def create_dataset():\n",
    "    #theta_values = np.random.uniform(-np.pi,np.pi,size=SIZE)\n",
    "    theta_values = np.random.uniform(-180,180,size=SIZE)\n",
    "    r_values = np.random.rand(SIZE)\n",
    "    x_values,y_values = __generate_x_y_values__(theta_values,r_values)\n",
    "    return x_values,y_values\n",
    "\n",
    "def visualize_data():\n",
    "    x_values,y_values = create_dataset()\n",
    "    labels = generate_labels(x_values,y_values)\n",
    "\n",
    "    colors = ['orange','blue']\n",
    "    fig, axs = plt.subplots(1, 3, figsize=(18, 5))\n",
    "\n",
    "    lim = [-6.0,6,0]\n",
    "    \n",
    "    axs[0].scatter(x_values, y_values, c=labels[:,0], cmap=matplotlib.colors.ListedColormap(colors))\n",
    "    axs[0].set_xlim(lim)\n",
    "    axs[0].set_ylim(lim)\n",
    "    \n",
    "    axs[1].scatter(x_values, y_values, c=labels[:,1], cmap=matplotlib.colors.ListedColormap(colors))\n",
    "    axs[1].set_xlim(lim)\n",
    "    axs[1].set_ylim(lim)\n",
    "    \n",
    "    axs[2].scatter(x_values, y_values, c=labels[:,2], cmap=matplotlib.colors.ListedColormap(colors))\n",
    "    axs[2].set_xlim(lim)\n",
    "    axs[2].set_ylim(lim)\n",
    "    \n",
    "    \n",
    "    plt.show()\n",
    "visualize_data()"
   ]
  },
  {
   "cell_type": "markdown",
   "metadata": {
    "colab_type": "text",
    "id": "9zsQc1mKTBPW"
   },
   "source": [
    "# B: Applying PCA\n",
    "Steps:\n",
    "* Write PCA function.\n",
    "* Apply PCA to data you generated.\n",
    "* Visualize each set of labels using first principle component. \n",
    "* Visualize each set of labels using second principle component. "
   ]
  },
  {
   "cell_type": "code",
   "execution_count": null,
   "metadata": {
    "colab": {},
    "colab_type": "code",
    "collapsed": true,
    "id": "NDjiB35DTBPY"
   },
   "outputs": [],
   "source": []
  },
  {
   "cell_type": "markdown",
   "metadata": {
    "colab_type": "text",
    "id": "GS1Hw4nRTBPa"
   },
   "source": [
    "# C: Applying LDA\n",
    "Steps:\n",
    "* Apply LDA(https://scikit-learn.org/stable/modules/lda_qda.html) to data for each label set. You can use sklearn implementation.\n",
    "* Visualize each set of labels using first component of corresponding LDA. "
   ]
  },
  {
   "cell_type": "code",
   "execution_count": null,
   "metadata": {
    "colab": {},
    "colab_type": "code",
    "collapsed": true,
    "id": "GBYx_n6jTBPb"
   },
   "outputs": [],
   "source": []
  },
  {
   "cell_type": "markdown",
   "metadata": {
    "colab_type": "text",
    "id": "mlP-37rWTBPe"
   },
   "source": [
    "# D: Nonlinear Data\n",
    "Steps:\n",
    "* Use generated data below.\n",
    "* Apply PCA and LDA to this data, and visualize it(seperately)."
   ]
  },
  {
   "cell_type": "code",
   "execution_count": null,
   "metadata": {
    "colab": {},
    "colab_type": "code",
    "collapsed": true,
    "id": "r5nwdotUTBPf"
   },
   "outputs": [],
   "source": [
    "def genData():\n",
    "    from sklearn.datasets import make_swiss_roll \n",
    "    n_samples = 1500\n",
    "    noise = 0.5\n",
    "    X, t = make_swiss_roll(n_samples, noise)\n",
    "    # Make it thinner\n",
    "    fig = plt.figure()\n",
    "    Data = np.zeros([1500,2])\n",
    "    Data[:,0] = X[:,0]\n",
    "    Data[:,1] = X[:,2]\n",
    "    Labels = np.zeros([1500,])\n",
    "    Labels[t>11]=1\n",
    "\n",
    "    plt.scatter(Data[Labels==1, 0], Data[Labels==1, 1],\n",
    "       s=20,)\n",
    "    plt.scatter(Data[Labels==0, 0], Data[Labels==0, 1],\n",
    "       s=20,)\n",
    "    return Data,Labels\n",
    "Data,Labels=genData()"
   ]
  },
  {
   "cell_type": "markdown",
   "metadata": {
    "colab_type": "text",
    "id": "RH3FTq9CTBPk"
   },
   "source": [
    "# Part 2: Parametric and Non-Parametric Classification.\n",
    "\n",
    "Download points2d.dat from https://www.cmpe.boun.edu.tr/~emre/courses/cmpe462/material/hws/hw2/points2d.dat. The sample includes 6000 instances. Each instance is represented by a feature vector of 2 dimensions. The third column corresponds to the class (0/1/2) of the instance."
   ]
  },
  {
   "cell_type": "markdown",
   "metadata": {
    "colab_type": "text",
    "id": "W46-oiUTTBPl"
   },
   "source": [
    "## A: Mixture of Gaussians. \n",
    "\n",
    "Steps:\n",
    "* Implement mixture of gaussians.\n",
    "* Divide data to training and validation and test sets.\n",
    "* At training:\n",
    "    - Divide all data to their respective classes.\n",
    "    - Run mixture of gaussians with k=1,2,3 using different initial points (the general practice is to use k-means to initialize the means, you can use sklearn implementation of k-means). \n",
    "* At validation, select best model:\n",
    "    - Using validation data, select best number of gaussians for each class using prediction error.\n",
    "* On test set, report (for the best model):\n",
    "    - the number of Gaussians for class 0, 1 and 2,\n",
    "    - the prediction error, and\n",
    "    - the confusion matrix."
   ]
  },
  {
   "cell_type": "code",
   "execution_count": null,
   "metadata": {
    "colab": {},
    "colab_type": "code",
    "collapsed": true,
    "id": "eAJoCMugTBPm"
   },
   "outputs": [],
   "source": []
  },
  {
   "cell_type": "markdown",
   "metadata": {
    "colab_type": "text",
    "id": "Ynoko7LDTBPo"
   },
   "source": [
    "## B: K-Nearest Neighbor\n",
    "Steps:\n",
    "* Implement k-nearest neighbor. \n",
    "* Run it with k=1,10,40. \n",
    "* Using test set, Report\n",
    "    - best k,\n",
    "    - prediction error for all k’s.\n",
    "    - confusion matrix for all k’s."
   ]
  },
  {
   "cell_type": "code",
   "execution_count": null,
   "metadata": {
    "colab": {},
    "colab_type": "code",
    "collapsed": true,
    "id": "9fh-2niJTE_J"
   },
   "outputs": [],
   "source": []
  }
 ],
 "metadata": {
  "colab": {
   "name": "CMPE462-Homework2.ipynb",
   "provenance": [],
   "version": "0.3.2"
  },
  "kernelspec": {
   "display_name": "Python 3",
   "language": "python",
   "name": "python3"
  },
  "language_info": {
   "codemirror_mode": {
    "name": "ipython",
    "version": 3
   },
   "file_extension": ".py",
   "mimetype": "text/x-python",
   "name": "python",
   "nbconvert_exporter": "python",
   "pygments_lexer": "ipython3",
   "version": "3.6.3"
  }
 },
 "nbformat": 4,
 "nbformat_minor": 1
}
