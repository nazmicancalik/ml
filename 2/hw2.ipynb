{
  "nbformat": 4,
  "nbformat_minor": 0,
  "metadata": {
    "colab": {
      "name": "CMPE462-Homework2.ipynb",
      "version": "0.3.2",
      "provenance": []
    },
    "kernelspec": {
      "display_name": "Python 2",
      "language": "python",
      "name": "python2"
    }
  },
  "cells": [
    {
      "metadata": {
        "id": "TUkyNNPWTBPJ",
        "colab_type": "text"
      },
      "cell_type": "markdown",
      "source": [
        "## CMPE 462 HOMEWORK 2\n"
      ]
    },
    {
      "metadata": {
        "id": "yoISMLx4TBPL",
        "colab_type": "code",
        "colab": {}
      },
      "cell_type": "code",
      "source": [
        "# Allowed Libraries\n",
        "import numpy as np\n",
        "import matplotlib.pyplot as plt"
      ],
      "execution_count": 0,
      "outputs": []
    },
    {
      "metadata": {
        "id": "D0LRt7BwTBPQ",
        "colab_type": "text"
      },
      "cell_type": "markdown",
      "source": [
        "# Part 1: Dimensionality Reduction"
      ]
    },
    {
      "metadata": {
        "id": "vg75m6bRTBPS",
        "colab_type": "text"
      },
      "cell_type": "markdown",
      "source": [
        "# A: Creating Datasets\n",
        "Steps:\n",
        "* Generate 500 points from $\\frac{x^2}{2^2}+ \\frac{y^2}{5^2} \\le 1$(From ellipse with 2, 5 radius on the x and y axes respectively). Example way:\n",
        "    - Generate 500 angle values $\\{\\theta^t\\}$ in range $[-\\pi,+\\pi]$\n",
        "    - Generate 500 values $\\{r^t\\}$ in range $[0,1]$\n",
        "    - Generate 500 points $\\{x^t,y^t\\}$ where $x^t = 2r^tsin(\\theta^t)$ and $y^t = 5r^tcos(\\theta^t)$.\n",
        "* Generate 3 set of labels. Do it by dividing data using following Lines (eg. one side of line is label 0, other side is label 1)\n",
        "    - $y=0$ line\n",
        "    - $x=0$ line \n",
        "    - $y=3x +1$ line \n",
        "* Visualize points with each set of labels in subplots with 1 row, 3 columns where each column corresponds to one set of labels. (Use different colors for each label.)  "
      ]
    },
    {
      "metadata": {
        "id": "cpdtUZUDTBPT",
        "colab_type": "code",
        "colab": {}
      },
      "cell_type": "code",
      "source": [
        ""
      ],
      "execution_count": 0,
      "outputs": []
    },
    {
      "metadata": {
        "id": "9zsQc1mKTBPW",
        "colab_type": "text"
      },
      "cell_type": "markdown",
      "source": [
        "# B: Applying PCA\n",
        "Steps:\n",
        "* Write PCA function.\n",
        "* Apply PCA to data you generated.\n",
        "* Visualize each set of labels using first principle component. \n",
        "* Visualize each set of labels using second principle component. "
      ]
    },
    {
      "metadata": {
        "id": "NDjiB35DTBPY",
        "colab_type": "code",
        "colab": {}
      },
      "cell_type": "code",
      "source": [
        ""
      ],
      "execution_count": 0,
      "outputs": []
    },
    {
      "metadata": {
        "id": "GS1Hw4nRTBPa",
        "colab_type": "text"
      },
      "cell_type": "markdown",
      "source": [
        "# C: Applying LDA\n",
        "Steps:\n",
        "* Apply LDA(https://scikit-learn.org/stable/modules/lda_qda.html) to data for each label set. You can use sklearn implementation.\n",
        "* Visualize each set of labels using first component of corresponding LDA. "
      ]
    },
    {
      "metadata": {
        "id": "GBYx_n6jTBPb",
        "colab_type": "code",
        "colab": {}
      },
      "cell_type": "code",
      "source": [
        ""
      ],
      "execution_count": 0,
      "outputs": []
    },
    {
      "metadata": {
        "id": "mlP-37rWTBPe",
        "colab_type": "text"
      },
      "cell_type": "markdown",
      "source": [
        "# D: Nonlinear Data\n",
        "Steps:\n",
        "* Use generated data below.\n",
        "* Apply PCA and LDA to this data, and visualize it(seperately)."
      ]
    },
    {
      "metadata": {
        "id": "r5nwdotUTBPf",
        "colab_type": "code",
        "colab": {}
      },
      "cell_type": "code",
      "source": [
        "def genData():\n",
        "    from sklearn.datasets import make_swiss_roll \n",
        "    n_samples = 1500\n",
        "    noise = 0.5\n",
        "    X, t = make_swiss_roll(n_samples, noise)\n",
        "    # Make it thinner\n",
        "    fig = plt.figure()\n",
        "    Data = np.zeros([1500,2])\n",
        "    Data[:,0] = X[:,0]\n",
        "    Data[:,1] = X[:,2]\n",
        "    Labels = np.zeros([1500,])\n",
        "    Labels[t>11]=1\n",
        "\n",
        "    plt.scatter(Data[Labels==1, 0], Data[Labels==1, 1],\n",
        "       s=20,)\n",
        "    plt.scatter(Data[Labels==0, 0], Data[Labels==0, 1],\n",
        "       s=20,)\n",
        "    return Data,Labels\n",
        "Data,Labels=genData()"
      ],
      "execution_count": 0,
      "outputs": []
    },
    {
      "metadata": {
        "id": "RH3FTq9CTBPk",
        "colab_type": "text"
      },
      "cell_type": "markdown",
      "source": [
        "# Part 2: Parametric and Non-Parametric Classification.\n",
        "\n",
        "Download points2d.dat from https://www.cmpe.boun.edu.tr/~emre/courses/cmpe462/material/hws/hw2/points2d.dat. The sample includes 6000 instances. Each instance is represented by a feature vector of 2 dimensions. The third column corresponds to the class (0/1/2) of the instance."
      ]
    },
    {
      "metadata": {
        "id": "W46-oiUTTBPl",
        "colab_type": "text"
      },
      "cell_type": "markdown",
      "source": [
        "## A: Mixture of Gaussians. \n",
        "\n",
        "Steps:\n",
        "* Implement mixture of gaussians.\n",
        "* Divide data to training and validation and test sets.\n",
        "* At training:\n",
        "    - Divide all data to their respective classes.\n",
        "    - Run mixture of gaussians with k=1,2,3 using different initial points (the general practice is to use k-means to initialize the means, you can use sklearn implementation of k-means). \n",
        "* At validation, select best model:\n",
        "    - Using validation data, select best number of gaussians for each class using prediction error.\n",
        "* On test set, report (for the best model):\n",
        "    - the number of Gaussians for class 0, 1 and 2,\n",
        "    - the prediction error, and\n",
        "    - the confusion matrix."
      ]
    },
    {
      "metadata": {
        "id": "eAJoCMugTBPm",
        "colab_type": "code",
        "colab": {}
      },
      "cell_type": "code",
      "source": [
        ""
      ],
      "execution_count": 0,
      "outputs": []
    },
    {
      "metadata": {
        "id": "Ynoko7LDTBPo",
        "colab_type": "text"
      },
      "cell_type": "markdown",
      "source": [
        "## B: K-Nearest Neighbor\n",
        "Steps:\n",
        "* Implement k-nearest neighbor. \n",
        "* Run it with k=1,10,40. \n",
        "* Using test set, Report\n",
        "    - best k,\n",
        "    - prediction error for all k’s.\n",
        "    - confusion matrix for all k’s."
      ]
    },
    {
      "metadata": {
        "id": "9fh-2niJTE_J",
        "colab_type": "code",
        "colab": {}
      },
      "cell_type": "code",
      "source": [
        ""
      ],
      "execution_count": 0,
      "outputs": []
    }
  ]
}